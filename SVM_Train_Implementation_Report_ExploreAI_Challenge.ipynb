{
 "cells": [
  {
   "cell_type": "markdown",
   "id": "4461c65d",
   "metadata": {},
   "source": [
    "# Machine Learning: Concept and Support Vector Machine (SVM) Implementation using Scikit-learn (SKlearn)"
   ]
  },
  {
   "cell_type": "markdown",
   "id": "2206fff7",
   "metadata": {},
   "source": [
    "## Learning Objectives"
   ]
  },
  {
   "cell_type": "markdown",
   "id": "e3eb75d7",
   "metadata": {},
   "source": [
    "<ol>\n",
    " <li>Gain an understanding of SVM and its relation to machine learning.</li>\n",
    " <li>Acquire the necessary knowledge for making predictions using SVM classifier.</li>\n",
    "</ol>\n"
   ]
  },
  {
   "cell_type": "markdown",
   "id": "e18c7b3b",
   "metadata": {},
   "source": [
    "## Topics Outline"
   ]
  },
  {
   "cell_type": "markdown",
   "id": "84f782c9",
   "metadata": {},
   "source": [
    "<ul>\n",
    " <li>Machine Learning: Introduction</li>\n",
    " <li>SVM: Definition and working principles</li>\n",
    " <li>SVM Kernels: Overview</li>\n",
    " <li>SVM Use Cases: Examples</li>\n",
    " <li>SVM Implementation: Using a dataset.</li>\n",
    "</ul>\n",
    " "
   ]
  },
  {
   "cell_type": "markdown",
   "id": "ef40dab2",
   "metadata": {},
   "source": [
    "### Machine Learning: \n",
    "<p>This refers to the ability of a computer program or system to learn and improve over time. It involves using algorithms to detect patterns and apply them to new data. Machine learning primarily relies on algorithms that continuously search for patterns and group data together. <br> The <em>four main types</em> of machine learning algorithms are:</p>\n",
    "<ol>\n",
    " <li><strong>Supervised learning:</strong> This involves training a model on a labeled dataset and then using that model to make predictions on new data.</li>\n",
    " <li><strong>Unsupervised learning:</strong> This involves clustering data into groups or finding patterns without any predefined labels or categories.</li>\n",
    " <li><strong>Reinforcement learning:</strong> This involves training a model through a trial-and-error process, where the model learns to make decisions based on feedback from its environment.</li>  \n",
    " <li><strong>Deep learning:</strong> This is a type of machine learning that uses artificial neural networks with multiple layers to learn complex representations of data.</li> \n",
    "</ol>\n"
   ]
  },
  {
   "cell_type": "markdown",
   "id": "b89c8aa0",
   "metadata": {},
   "source": [
    "### SVM: Definition and working principles:\n",
    "<p>In this section, we will define SVM and explain its fundamental working principles. We will also provide graphical illustrations to support our explanation.</p>\n",
    "\n",
    "#### SVM: Definition:\n",
    "<p>SVM (Support Vector Machines) is a widely-used <strong>supervised learning algorithm</strong> for classification and regression tasks. <em>Classification</em> involves predicting the class or category of a new data point, based on its features while, <em>Regression</em> involves predicting a continuous value or quantity based on a set of input features.</p>\n",
    "<p><strong>Supervised learning</strong> infers a function from labeled training data to make predictions based on a dataset. After data cleaning and feature extraction, the dataset is split into a training set and a testing set. Algorithms are then applied to the training set to develop and select models, which are subsequently tested on the testing set to check the accuracy of the predictions. The models are evaluated and modified to improve prediction accuracy. Refer to the Figure 1 for a succinct description.</p>"
   ]
  },
  {
   "cell_type": "markdown",
   "id": "be863652",
   "metadata": {},
   "source": [
    "\n",
    "<img src=\"Fig1 - Train concept.PNG\" width=\"600\" height=\"400\">\n",
    "Figure 1: Supervised Learning Process This is [a reference][1]\n",
    "\n"
   ]
  },
  {
   "cell_type": "markdown",
   "id": "868daee8",
   "metadata": {},
   "source": [
    "#### SVM: Working principles:\n",
    "<p>SVM is a discriminative classifier that employs a separative hyperplane to separate examples as points in space. \n",
    "The points are mapped to ensure that points belonging to different categories are separated by a maximized gap.</p>\n",
    "<p>In SVM, the aim is to find a hyperplane that separates the classes of data points in the feature space. For example, in a 2D feature space with two classes of data points depicted as green and red respectively, the hyperplane in blue separates the two classes (refer to Figure 2). Additionally, hyperplanes can also be represented in 3D space as shown in the example.</p>"
   ]
  },
  {
   "cell_type": "markdown",
   "id": "5d7e529c",
   "metadata": {},
   "source": [
    "<img src=\"Fig2 - 2D and 3D.png\" width=\"900\" height=\"400\">\n",
    "Figure 2: SVM Hyperplane: <strong>2D Space (Left) and 3D Space (Right)</strong> This is [a reference][2]"
   ]
  },
  {
   "cell_type": "markdown",
   "id": "e80e6281",
   "metadata": {},
   "source": [
    "<p>SVM measures the confidence of classification decision based on the distance between the hyperplane and the closest data points. The closest points are called Support Vectors, which determine the position and orientation of the hyperplane for maximizing the classifier margin. The number of Support Vectors can be chosen arbitrarily based on the application.</p>"
   ]
  },
  {
   "cell_type": "markdown",
   "id": "08c7b466",
   "metadata": {},
   "source": [
    "<p>To summarize, the main steps for selecting the maximum margin in SVM are: <br>\n",
    "<ul>\n",
    " <li>Identify support vectors: The SVM finds the data points closest to the decision boundary, known as support vectors.</li>\n",
    " <li>Select the maximum: After identifying the support vectors, the data points closest to the decision boundary are chosen to maximize the separation between the two classes.</li>\n",
    "</ul>\n",
    "See Figure 3 below for a graphical illustration.\n",
    "</p>"
   ]
  },
  {
   "cell_type": "markdown",
   "id": "e86553f6",
   "metadata": {},
   "source": [
    "<img src=\"Figure 3 - Main Steps.png\" width=\"400\" height=\"400\">\n",
    "Figure 3: SVM Hyperplanes, Support Vectors, Decision Boundary and Margin This is [a reference][3]"
   ]
  },
  {
   "cell_type": "markdown",
   "id": "4757af2f",
   "metadata": {},
   "source": [
    "<p>In addition, regularization in SVM avoids overfitting by adding a penalty term to the objective function that encourages a simpler decision boundary. The strength of the regularization is determined by the hyperparameter C, which controls the tradeoff between training error and margin size. A higher C value leads to a lower tolerance for misclassification on the training set, while a lower C value allows more misclassification in favour of a larger margin. The can be demonstrated in SKlearn.</p>\n",
    "<p>Furthermore, linearly separable data can be separated by a straight line that divides the data into different categories, while non-linearly separable data cannot be separated by a straight line. A linear support vector machine can accurately classify linearly separable data (refer to Figure 2), while non-linear support vector machines, which use kernel functions to map data to a higher-dimensional space, are required to accurately classify non-linearly separable data. This concept will be further explained in the next section."
   ]
  },
  {
   "cell_type": "markdown",
   "id": "35e6d85e",
   "metadata": {},
   "source": [
    "### SVM Kernels: Overview:"
   ]
  },
  {
   "cell_type": "markdown",
   "id": "fecdda24",
   "metadata": {},
   "source": [
    "<p>In this section, we will explain the rationale behind using kernel functions, state their types, and describe the underlying concept.</p>\n",
    "<p>In cases of non-linearly separable data, SVM employs a <strong>kernel trick</strong> to transform the input into a higher dimensional space, facilitating the data's segregation. Gamma is an additional parameter used to specify the kernel's influence on the model. Refer to Figure 4 for a diagramatic illustration. Kernels such as linear, polynomial, Gaussian (RBF), sigmoid, Laplacian, and ANOVA can be used to add more dimensions to a low dimensional space for better data segregation.</p>"
   ]
  },
  {
   "cell_type": "markdown",
   "id": "658df4c1",
   "metadata": {},
   "source": [
    "<img src=\"Fig32 - Kernel Trick.png\" width=\"600\" height=\"400\">\n",
    "Figure 4: SVM Kernel Trick: <strong>Input Space (Left) and Feature Space (Right)</strong> This is [a reference][4]"
   ]
  },
  {
   "cell_type": "markdown",
   "id": "bbcc03dc",
   "metadata": {},
   "source": [
    "<p>In SVM, gamma is a hyperparameter that specifies the influence of the kernel function on the model. Choosing the appropriate value of gamma is an important step in building an effective SVM model, and typically requires some experimentation and tuning. When using a Gaussian (RBF) kernel, for example, gamma determines the width of the Gaussian function used to measure the similarity between pairs of data points.</p>"
   ]
  },
  {
   "cell_type": "markdown",
   "id": "6c69554d",
   "metadata": {},
   "source": [
    "### SVM Use Cases: Examples:"
   ]
  },
  {
   "cell_type": "markdown",
   "id": "dd8602b4",
   "metadata": {},
   "source": [
    "<p>This section will cover use cases, pros, cons, and examples of companies that use SVM. </p>\n",
    "<p>SVM is a versatile machine learning algorithm used for classification and regression problems. It has numerous use cases, including image classification, text classification, bioinformatics, face detection, financial forecasting, medical diagnosis, and quality control. SVMs are widely used in various industries and fields due to their flexibility and effectiveness.</p>\n",
    "<p>Support Vector Machines (SVM) is a reliable and effective machine learning algorithm that has many advantages, including its ability to perform well in high-dimensional spaces, good generalization performance, robustness to outliers, versatility for both classification and regression tasks, computational efficiency, and tunability through hyperparameters. However, SVMs have several disadvantages, including sensitivity to kernel function, slow training time, limited scalability, difficult interpretation, imbalanced datasets, and hyperparameter tuning requirements. Despite these limitations, SVMs remain a powerful and effective machine learning algorithm.</p>\n",
    "<p>There are many companies that use SVM classifiers in their products. One example is <strong>Facebook, which uses SVMs in its face recognition technology</strong>. Another example is <strong>Amazon, which uses SVMs for product recommendations and fraud detection.</strong>\n",
    "</p>"
   ]
  },
  {
   "cell_type": "markdown",
   "id": "f2783e30",
   "metadata": {},
   "source": [
    "### SVM Implementation: Using a dataset:"
   ]
  },
  {
   "cell_type": "markdown",
   "id": "acfdfced",
   "metadata": {},
   "source": [
    "<p>This section aims to construct a support vector machine model with the \"exams.csv\"This is [a reference][5] dataset. Before proceeding, let us provide a brief overview of the dataset.</p>"
   ]
  },
  {
   "cell_type": "markdown",
   "id": "4aabc8cf",
   "metadata": {},
   "source": [
    "#### About Dataset:\n",
    "<p><strong>Description:</strong> This dataset contains information on the performance of high school students in mathematics, including their grades and demographic information. The data was collected from three high schools in the United States.<p>\n",
    "\"This dataset was created for educational purposes and was generated, not collected from actual data sources.\"<p>\n",
    "<p><strong>Columns:</strong>\n",
    "<ul>\n",
    " <li>Gender: The gender of the student (male/female)</li>\n",
    " <li>Race/ethnicity: The student's racial or ethnic background (Asian, African-American, Hispanic, etc.)</li>\n",
    " <li>Parental level of education: The highest level of education attained by the student's parent(s) or guardian(s)</li>\n",
    " <li>Lunch: Whether the student receives free or reduced-price lunch (yes/no)</li>\n",
    " <li>Test preparation course: Whether the student completed a test preparation course (completed/none)</li>\n",
    " <li>Math score: The student's score on a standardized mathematics test</li>\n",
    " <li>Reading score: The student's score on a standardized reading test</li>\n",
    " <li>Writing score: The student's score on a standardized writing test.</li>\n",
    "</ul>\n",
    "</p>"
   ]
  },
  {
   "cell_type": "markdown",
   "id": "e1d31e1d",
   "metadata": {},
   "source": [
    "<p><strong>Task:</strong> Create a gender prediction model using Support Vector Machines (SVM) algorithm based on the numerical scores (Math score, Reading score and Writing score) of the student.</p>"
   ]
  },
  {
   "cell_type": "markdown",
   "id": "15dfb77b",
   "metadata": {},
   "source": [
    "<p>To start, we'll load the dataset and conduct an initial exploration.</p>\n",
    "<p>We'll start by importing the Pandas library which provides DataFrame methods to manipulate our data.</p>"
   ]
  },
  {
   "cell_type": "code",
   "execution_count": 40,
   "id": "8a9872e6",
   "metadata": {},
   "outputs": [
    {
     "data": {
      "text/html": [
       "<div>\n",
       "<style scoped>\n",
       "    .dataframe tbody tr th:only-of-type {\n",
       "        vertical-align: middle;\n",
       "    }\n",
       "\n",
       "    .dataframe tbody tr th {\n",
       "        vertical-align: top;\n",
       "    }\n",
       "\n",
       "    .dataframe thead th {\n",
       "        text-align: right;\n",
       "    }\n",
       "</style>\n",
       "<table border=\"1\" class=\"dataframe\">\n",
       "  <thead>\n",
       "    <tr style=\"text-align: right;\">\n",
       "      <th></th>\n",
       "      <th>gender</th>\n",
       "      <th>race/ethnicity</th>\n",
       "      <th>parental level of education</th>\n",
       "      <th>lunch</th>\n",
       "      <th>test preparation course</th>\n",
       "      <th>math score</th>\n",
       "      <th>reading score</th>\n",
       "      <th>writing score</th>\n",
       "    </tr>\n",
       "  </thead>\n",
       "  <tbody>\n",
       "    <tr>\n",
       "      <th>0</th>\n",
       "      <td>female</td>\n",
       "      <td>group D</td>\n",
       "      <td>some college</td>\n",
       "      <td>standard</td>\n",
       "      <td>completed</td>\n",
       "      <td>59</td>\n",
       "      <td>70</td>\n",
       "      <td>78</td>\n",
       "    </tr>\n",
       "    <tr>\n",
       "      <th>1</th>\n",
       "      <td>male</td>\n",
       "      <td>group D</td>\n",
       "      <td>associate's degree</td>\n",
       "      <td>standard</td>\n",
       "      <td>none</td>\n",
       "      <td>96</td>\n",
       "      <td>93</td>\n",
       "      <td>87</td>\n",
       "    </tr>\n",
       "    <tr>\n",
       "      <th>2</th>\n",
       "      <td>female</td>\n",
       "      <td>group D</td>\n",
       "      <td>some college</td>\n",
       "      <td>free/reduced</td>\n",
       "      <td>none</td>\n",
       "      <td>57</td>\n",
       "      <td>76</td>\n",
       "      <td>77</td>\n",
       "    </tr>\n",
       "    <tr>\n",
       "      <th>3</th>\n",
       "      <td>male</td>\n",
       "      <td>group B</td>\n",
       "      <td>some college</td>\n",
       "      <td>free/reduced</td>\n",
       "      <td>none</td>\n",
       "      <td>70</td>\n",
       "      <td>70</td>\n",
       "      <td>63</td>\n",
       "    </tr>\n",
       "    <tr>\n",
       "      <th>4</th>\n",
       "      <td>female</td>\n",
       "      <td>group D</td>\n",
       "      <td>associate's degree</td>\n",
       "      <td>standard</td>\n",
       "      <td>none</td>\n",
       "      <td>83</td>\n",
       "      <td>85</td>\n",
       "      <td>86</td>\n",
       "    </tr>\n",
       "  </tbody>\n",
       "</table>\n",
       "</div>"
      ],
      "text/plain": [
       "   gender race/ethnicity parental level of education         lunch  \\\n",
       "0  female        group D                some college      standard   \n",
       "1    male        group D          associate's degree      standard   \n",
       "2  female        group D                some college  free/reduced   \n",
       "3    male        group B                some college  free/reduced   \n",
       "4  female        group D          associate's degree      standard   \n",
       "\n",
       "  test preparation course  math score  reading score  writing score  \n",
       "0               completed          59             70             78  \n",
       "1                    none          96             93             87  \n",
       "2                    none          57             76             77  \n",
       "3                    none          70             70             63  \n",
       "4                    none          83             85             86  "
      ]
     },
     "execution_count": 40,
     "metadata": {},
     "output_type": "execute_result"
    }
   ],
   "source": [
    "# importing pandas module\n",
    "import pandas as pd\n",
    "# Read the exams.csv file and store in the variable 'data': (Making dataframe).\n",
    "data = pd.read_csv(\"exams.csv\")\n",
    "# Print the first five row of the dataset\n",
    "data.head()"
   ]
  },
  {
   "cell_type": "markdown",
   "id": "1cbf0795",
   "metadata": {},
   "source": [
    "<p>The provided data above contains a combination of numerical and categorical columns. However, we will only be utilizing the numerical features to predict the 'gender' column for the purpose of this task. This approach will ensure clarity and focus on the specific task at hand.</p>"
   ]
  },
  {
   "cell_type": "markdown",
   "id": "5e47b5af",
   "metadata": {},
   "source": [
    "<p>It is a common practice to perform statistical description of a DataFrame, as demonstrated below:</p>"
   ]
  },
  {
   "cell_type": "code",
   "execution_count": 41,
   "id": "f6ab87cf",
   "metadata": {},
   "outputs": [
    {
     "data": {
      "text/html": [
       "<div>\n",
       "<style scoped>\n",
       "    .dataframe tbody tr th:only-of-type {\n",
       "        vertical-align: middle;\n",
       "    }\n",
       "\n",
       "    .dataframe tbody tr th {\n",
       "        vertical-align: top;\n",
       "    }\n",
       "\n",
       "    .dataframe thead th {\n",
       "        text-align: right;\n",
       "    }\n",
       "</style>\n",
       "<table border=\"1\" class=\"dataframe\">\n",
       "  <thead>\n",
       "    <tr style=\"text-align: right;\">\n",
       "      <th></th>\n",
       "      <th>math score</th>\n",
       "      <th>reading score</th>\n",
       "      <th>writing score</th>\n",
       "    </tr>\n",
       "  </thead>\n",
       "  <tbody>\n",
       "    <tr>\n",
       "      <th>count</th>\n",
       "      <td>1000.000000</td>\n",
       "      <td>1000.000000</td>\n",
       "      <td>1000.000000</td>\n",
       "    </tr>\n",
       "    <tr>\n",
       "      <th>mean</th>\n",
       "      <td>67.810000</td>\n",
       "      <td>70.382000</td>\n",
       "      <td>69.140000</td>\n",
       "    </tr>\n",
       "    <tr>\n",
       "      <th>std</th>\n",
       "      <td>15.250196</td>\n",
       "      <td>14.107413</td>\n",
       "      <td>15.025917</td>\n",
       "    </tr>\n",
       "    <tr>\n",
       "      <th>min</th>\n",
       "      <td>15.000000</td>\n",
       "      <td>25.000000</td>\n",
       "      <td>15.000000</td>\n",
       "    </tr>\n",
       "    <tr>\n",
       "      <th>25%</th>\n",
       "      <td>58.000000</td>\n",
       "      <td>61.000000</td>\n",
       "      <td>59.000000</td>\n",
       "    </tr>\n",
       "    <tr>\n",
       "      <th>50%</th>\n",
       "      <td>68.000000</td>\n",
       "      <td>70.500000</td>\n",
       "      <td>70.000000</td>\n",
       "    </tr>\n",
       "    <tr>\n",
       "      <th>75%</th>\n",
       "      <td>79.250000</td>\n",
       "      <td>80.000000</td>\n",
       "      <td>80.000000</td>\n",
       "    </tr>\n",
       "    <tr>\n",
       "      <th>max</th>\n",
       "      <td>100.000000</td>\n",
       "      <td>100.000000</td>\n",
       "      <td>100.000000</td>\n",
       "    </tr>\n",
       "  </tbody>\n",
       "</table>\n",
       "</div>"
      ],
      "text/plain": [
       "        math score  reading score  writing score\n",
       "count  1000.000000    1000.000000    1000.000000\n",
       "mean     67.810000      70.382000      69.140000\n",
       "std      15.250196      14.107413      15.025917\n",
       "min      15.000000      25.000000      15.000000\n",
       "25%      58.000000      61.000000      59.000000\n",
       "50%      68.000000      70.500000      70.000000\n",
       "75%      79.250000      80.000000      80.000000\n",
       "max     100.000000     100.000000     100.000000"
      ]
     },
     "execution_count": 41,
     "metadata": {},
     "output_type": "execute_result"
    }
   ],
   "source": [
    "# Remove null values to avoid errors\n",
    "data = data.dropna()\n",
    "# Call describe method for the statistical description\n",
    "data.describe()"
   ]
  },
  {
   "cell_type": "markdown",
   "id": "df2a8220",
   "metadata": {},
   "source": [
    "<p>The information displayed above includes the maximum, minimum, standard deviation, mean, and percentile values of the dataset, with a total sample size of 1000 indicated by the \"count\".</p>"
   ]
  },
  {
   "cell_type": "markdown",
   "id": "11658189",
   "metadata": {},
   "source": [
    "<p>The next step involves splitting the dataset into targets, which in this case is the gender of the student.</p>"
   ]
  },
  {
   "cell_type": "code",
   "execution_count": 42,
   "id": "30662832",
   "metadata": {},
   "outputs": [
    {
     "data": {
      "text/html": [
       "<div>\n",
       "<style scoped>\n",
       "    .dataframe tbody tr th:only-of-type {\n",
       "        vertical-align: middle;\n",
       "    }\n",
       "\n",
       "    .dataframe tbody tr th {\n",
       "        vertical-align: top;\n",
       "    }\n",
       "\n",
       "    .dataframe thead th {\n",
       "        text-align: right;\n",
       "    }\n",
       "</style>\n",
       "<table border=\"1\" class=\"dataframe\">\n",
       "  <thead>\n",
       "    <tr style=\"text-align: right;\">\n",
       "      <th></th>\n",
       "      <th>gender</th>\n",
       "      <th>race/ethnicity</th>\n",
       "      <th>parental level of education</th>\n",
       "      <th>lunch</th>\n",
       "      <th>test preparation course</th>\n",
       "      <th>math score</th>\n",
       "      <th>reading score</th>\n",
       "      <th>writing score</th>\n",
       "    </tr>\n",
       "  </thead>\n",
       "  <tbody>\n",
       "    <tr>\n",
       "      <th>1</th>\n",
       "      <td>male</td>\n",
       "      <td>group D</td>\n",
       "      <td>associate's degree</td>\n",
       "      <td>standard</td>\n",
       "      <td>none</td>\n",
       "      <td>96</td>\n",
       "      <td>93</td>\n",
       "      <td>87</td>\n",
       "    </tr>\n",
       "    <tr>\n",
       "      <th>3</th>\n",
       "      <td>male</td>\n",
       "      <td>group B</td>\n",
       "      <td>some college</td>\n",
       "      <td>free/reduced</td>\n",
       "      <td>none</td>\n",
       "      <td>70</td>\n",
       "      <td>70</td>\n",
       "      <td>63</td>\n",
       "    </tr>\n",
       "    <tr>\n",
       "      <th>5</th>\n",
       "      <td>male</td>\n",
       "      <td>group C</td>\n",
       "      <td>some high school</td>\n",
       "      <td>standard</td>\n",
       "      <td>none</td>\n",
       "      <td>68</td>\n",
       "      <td>57</td>\n",
       "      <td>54</td>\n",
       "    </tr>\n",
       "    <tr>\n",
       "      <th>8</th>\n",
       "      <td>male</td>\n",
       "      <td>group C</td>\n",
       "      <td>some high school</td>\n",
       "      <td>standard</td>\n",
       "      <td>none</td>\n",
       "      <td>80</td>\n",
       "      <td>75</td>\n",
       "      <td>73</td>\n",
       "    </tr>\n",
       "    <tr>\n",
       "      <th>10</th>\n",
       "      <td>male</td>\n",
       "      <td>group B</td>\n",
       "      <td>some high school</td>\n",
       "      <td>standard</td>\n",
       "      <td>none</td>\n",
       "      <td>74</td>\n",
       "      <td>69</td>\n",
       "      <td>69</td>\n",
       "    </tr>\n",
       "  </tbody>\n",
       "</table>\n",
       "</div>"
      ],
      "text/plain": [
       "   gender race/ethnicity parental level of education         lunch  \\\n",
       "1    male        group D          associate's degree      standard   \n",
       "3    male        group B                some college  free/reduced   \n",
       "5    male        group C            some high school      standard   \n",
       "8    male        group C            some high school      standard   \n",
       "10   male        group B            some high school      standard   \n",
       "\n",
       "   test preparation course  math score  reading score  writing score  \n",
       "1                     none          96             93             87  \n",
       "3                     none          70             70             63  \n",
       "5                     none          68             57             54  \n",
       "8                     none          80             75             73  \n",
       "10                    none          74             69             69  "
      ]
     },
     "execution_count": 42,
     "metadata": {},
     "output_type": "execute_result"
    }
   ],
   "source": [
    "# split data into targets: (Male)\n",
    "df0 = data[data.gender==\"male\"]\n",
    "df0.head()"
   ]
  },
  {
   "cell_type": "code",
   "execution_count": 43,
   "id": "f16ed432",
   "metadata": {},
   "outputs": [
    {
     "data": {
      "text/html": [
       "<div>\n",
       "<style scoped>\n",
       "    .dataframe tbody tr th:only-of-type {\n",
       "        vertical-align: middle;\n",
       "    }\n",
       "\n",
       "    .dataframe tbody tr th {\n",
       "        vertical-align: top;\n",
       "    }\n",
       "\n",
       "    .dataframe thead th {\n",
       "        text-align: right;\n",
       "    }\n",
       "</style>\n",
       "<table border=\"1\" class=\"dataframe\">\n",
       "  <thead>\n",
       "    <tr style=\"text-align: right;\">\n",
       "      <th></th>\n",
       "      <th>gender</th>\n",
       "      <th>race/ethnicity</th>\n",
       "      <th>parental level of education</th>\n",
       "      <th>lunch</th>\n",
       "      <th>test preparation course</th>\n",
       "      <th>math score</th>\n",
       "      <th>reading score</th>\n",
       "      <th>writing score</th>\n",
       "    </tr>\n",
       "  </thead>\n",
       "  <tbody>\n",
       "    <tr>\n",
       "      <th>0</th>\n",
       "      <td>female</td>\n",
       "      <td>group D</td>\n",
       "      <td>some college</td>\n",
       "      <td>standard</td>\n",
       "      <td>completed</td>\n",
       "      <td>59</td>\n",
       "      <td>70</td>\n",
       "      <td>78</td>\n",
       "    </tr>\n",
       "    <tr>\n",
       "      <th>2</th>\n",
       "      <td>female</td>\n",
       "      <td>group D</td>\n",
       "      <td>some college</td>\n",
       "      <td>free/reduced</td>\n",
       "      <td>none</td>\n",
       "      <td>57</td>\n",
       "      <td>76</td>\n",
       "      <td>77</td>\n",
       "    </tr>\n",
       "    <tr>\n",
       "      <th>4</th>\n",
       "      <td>female</td>\n",
       "      <td>group D</td>\n",
       "      <td>associate's degree</td>\n",
       "      <td>standard</td>\n",
       "      <td>none</td>\n",
       "      <td>83</td>\n",
       "      <td>85</td>\n",
       "      <td>86</td>\n",
       "    </tr>\n",
       "    <tr>\n",
       "      <th>6</th>\n",
       "      <td>female</td>\n",
       "      <td>group E</td>\n",
       "      <td>associate's degree</td>\n",
       "      <td>standard</td>\n",
       "      <td>none</td>\n",
       "      <td>82</td>\n",
       "      <td>83</td>\n",
       "      <td>80</td>\n",
       "    </tr>\n",
       "    <tr>\n",
       "      <th>7</th>\n",
       "      <td>female</td>\n",
       "      <td>group B</td>\n",
       "      <td>some high school</td>\n",
       "      <td>standard</td>\n",
       "      <td>none</td>\n",
       "      <td>46</td>\n",
       "      <td>61</td>\n",
       "      <td>58</td>\n",
       "    </tr>\n",
       "  </tbody>\n",
       "</table>\n",
       "</div>"
      ],
      "text/plain": [
       "   gender race/ethnicity parental level of education         lunch  \\\n",
       "0  female        group D                some college      standard   \n",
       "2  female        group D                some college  free/reduced   \n",
       "4  female        group D          associate's degree      standard   \n",
       "6  female        group E          associate's degree      standard   \n",
       "7  female        group B            some high school      standard   \n",
       "\n",
       "  test preparation course  math score  reading score  writing score  \n",
       "0               completed          59             70             78  \n",
       "2                    none          57             76             77  \n",
       "4                    none          83             85             86  \n",
       "6                    none          82             83             80  \n",
       "7                    none          46             61             58  "
      ]
     },
     "execution_count": 43,
     "metadata": {},
     "output_type": "execute_result"
    }
   ],
   "source": [
    "# split data into targets: (Female)\n",
    "df1 = data[data.gender==\"female\"]\n",
    "df1.head()"
   ]
  },
  {
   "cell_type": "markdown",
   "id": "a3a3d785",
   "metadata": {},
   "source": [
    "<p>Next, we will visualize the relationship between the numerical values in the dataset and their relation to the targets (gender). Specifically, we will examine the relationship between math score vs reading score, math score vs writing score, and writing score vs reading score. <br> Hence, we will now import the 'matplotlib.pyplot' library to create and customize our visualizations.</p>"
   ]
  },
  {
   "cell_type": "code",
   "execution_count": 44,
   "id": "08bd1ca2",
   "metadata": {},
   "outputs": [],
   "source": [
    "# importing the matplotlib library\n",
    "from matplotlib import pyplot as plt"
   ]
  },
  {
   "cell_type": "code",
   "execution_count": 45,
   "id": "96bf431f",
   "metadata": {},
   "outputs": [],
   "source": [
    "# This line of code enables the inclusion of Matplotlib graphs directly in the notebook, \n",
    "# adjacent to the relevant code.\n",
    "%matplotlib inline"
   ]
  },
  {
   "cell_type": "markdown",
   "id": "363b40ab",
   "metadata": {},
   "source": [
    "<p>We will now examine the numeric features of the data to gain insight into the spread of the data.</p>"
   ]
  },
  {
   "cell_type": "code",
   "execution_count": 46,
   "id": "5aae3777",
   "metadata": {},
   "outputs": [
    {
     "data": {
      "text/plain": [
       "<matplotlib.legend.Legend at 0x18ce3c230a0>"
      ]
     },
     "execution_count": 46,
     "metadata": {},
     "output_type": "execute_result"
    },
    {
     "data": {
      "image/png": "[encoded data removed]",
      "text/plain": [
       "<Figure size 432x288 with 1 Axes>"
      ]
     },
     "metadata": {
      "needs_background": "light"
     },
     "output_type": "display_data"
    }
   ],
   "source": [
    "# Add the title of the plot\n",
    "plt.title('Figure 5: Scatter plot - Math Score versus Reading Score')\n",
    "# Add the x-axis label\n",
    "plt.xlabel('Math Score')\n",
    "# Add the y-axis label\n",
    "plt.ylabel('Reading Score')\n",
    "# Scatter plot of the male gender\n",
    "plt.scatter(df0['math score'],df0['reading score'],color='green',marker='+')\n",
    "# Scatter plot of the female gender\n",
    "plt.scatter(df1['math score'],df1['reading score'],color='blue',marker='.')\n",
    "# Add legend to the Scatter plot\n",
    "plt.legend(['Male', 'Female'], loc='upper left', title='Legend')"
   ]
  },
  {
   "cell_type": "code",
   "execution_count": 47,
   "id": "50a07132",
   "metadata": {},
   "outputs": [
    {
     "data": {
      "text/plain": [
       "<matplotlib.legend.Legend at 0x18ce3c93160>"
      ]
     },
     "execution_count": 47,
     "metadata": {},
     "output_type": "execute_result"
    },
    {
     "data": {
      "image/png": "[encoded data removed]",
      "text/plain": [
       "<Figure size 432x288 with 1 Axes>"
      ]
     },
     "metadata": {
      "needs_background": "light"
     },
     "output_type": "display_data"
    }
   ],
   "source": [
    "# Add the title of the plot\n",
    "plt.title('Figure 6: Scatter plot - Math Score versus Writing Score')\n",
    "# Add the x-axis label\n",
    "plt.xlabel('Math Score')\n",
    "# Add the y-axis label\n",
    "plt.ylabel('Writing Score')\n",
    "# Scatter plot of the male gender\n",
    "plt.scatter(df0['math score'],df0['writing score'],color='green',marker='+')\n",
    "# Scatter plot of the female gender\n",
    "plt.scatter(df1['math score'],df1['writing score'],color='blue',marker='.')\n",
    "# Add legend to the Scatter plot\n",
    "plt.legend(['Male', 'Female'], loc='upper left', title='Legend')"
   ]
  },
  {
   "cell_type": "code",
   "execution_count": 48,
   "id": "70ceb41f",
   "metadata": {},
   "outputs": [
    {
     "data": {
      "text/plain": [
       "<matplotlib.legend.Legend at 0x18ce3bd6940>"
      ]
     },
     "execution_count": 48,
     "metadata": {},
     "output_type": "execute_result"
    },
    {
     "data": {
      "image/png": "[encoded data removed]",
      "text/plain": [
       "<Figure size 432x288 with 1 Axes>"
      ]
     },
     "metadata": {
      "needs_background": "light"
     },
     "output_type": "display_data"
    }
   ],
   "source": [
    "# Add the title of the plot\n",
    "plt.title('Figure 7: Scatter plot - Writing Score versus Reading Score')\n",
    "# Add the x-axis label\n",
    "plt.xlabel('Writing Score')\n",
    "# Add the y-axis label\n",
    "plt.ylabel('Reading Score')\n",
    "# Scatter plot of the male gender\n",
    "plt.scatter(df0['writing score'],df0['reading score'],color='green',marker='+')\n",
    "# Scatter plot of the female gender\n",
    "plt.scatter(df1['writing score'],df1['reading score'],color='blue',marker='.')\n",
    "# Add legend to the Scatter plot\n",
    "plt.legend(['Male', 'Female'], loc='upper left', title='Legend')"
   ]
  },
  {
   "cell_type": "markdown",
   "id": "e3b7cc3f",
   "metadata": {},
   "source": [
    "<p>As can be observed from Figure 5, Figure 6, and Figure 7, the data in question is a classic example of non-linearly separable data. When faced with such data, the kernel trick can be used to transform the data using a non-linear function. This results in transformed points that are linearly separable. In the following code, we will implement this using the Scikit-learn library.</p>"
   ]
  },
  {
   "cell_type": "markdown",
   "id": "e4fc76b0",
   "metadata": {},
   "source": [
    "<p>Our next step is to split the data into <strong>testing and training sets.</strong> This is a crucial step as it enables us to assess the accuracy of our model on data that it has not encountered before. To accomplish this, we will utilize Sklearn's <strong>train_test_split() function</strong>. We can now import the required library as below.</p>"
   ]
  },
  {
   "cell_type": "code",
   "execution_count": 49,
   "id": "621d6fe6",
   "metadata": {},
   "outputs": [],
   "source": [
    "# importing the train_test_split function from the sklearn library.\n",
    "from sklearn.model_selection import train_test_split"
   ]
  },
  {
   "cell_type": "markdown",
   "id": "9f84d798",
   "metadata": {},
   "source": [
    "<p>For this task, only the numeric variables will be used, and the categorical data will be ignored. Following the Sklearn convention, two arrays of data will be created:\n",
    "<ul>\n",
    " <li>X: feature matrix, a multi-dimensional array.</li>\n",
    " <li>y: target array, a one-dimensional array.</li>\n",
    "</ul>\n",
    "We can create these variables and split the data using the train_test_split() function as shown below:\n",
    "</p>"
   ]
  },
  {
   "cell_type": "code",
   "execution_count": 50,
   "id": "c057e78e",
   "metadata": {},
   "outputs": [
    {
     "data": {
      "text/html": [
       "<div>\n",
       "<style scoped>\n",
       "    .dataframe tbody tr th:only-of-type {\n",
       "        vertical-align: middle;\n",
       "    }\n",
       "\n",
       "    .dataframe tbody tr th {\n",
       "        vertical-align: top;\n",
       "    }\n",
       "\n",
       "    .dataframe thead th {\n",
       "        text-align: right;\n",
       "    }\n",
       "</style>\n",
       "<table border=\"1\" class=\"dataframe\">\n",
       "  <thead>\n",
       "    <tr style=\"text-align: right;\">\n",
       "      <th></th>\n",
       "      <th>math score</th>\n",
       "      <th>reading score</th>\n",
       "      <th>writing score</th>\n",
       "    </tr>\n",
       "  </thead>\n",
       "  <tbody>\n",
       "    <tr>\n",
       "      <th>0</th>\n",
       "      <td>59</td>\n",
       "      <td>70</td>\n",
       "      <td>78</td>\n",
       "    </tr>\n",
       "    <tr>\n",
       "      <th>1</th>\n",
       "      <td>96</td>\n",
       "      <td>93</td>\n",
       "      <td>87</td>\n",
       "    </tr>\n",
       "    <tr>\n",
       "      <th>2</th>\n",
       "      <td>57</td>\n",
       "      <td>76</td>\n",
       "      <td>77</td>\n",
       "    </tr>\n",
       "    <tr>\n",
       "      <th>3</th>\n",
       "      <td>70</td>\n",
       "      <td>70</td>\n",
       "      <td>63</td>\n",
       "    </tr>\n",
       "    <tr>\n",
       "      <th>4</th>\n",
       "      <td>83</td>\n",
       "      <td>85</td>\n",
       "      <td>86</td>\n",
       "    </tr>\n",
       "  </tbody>\n",
       "</table>\n",
       "</div>"
      ],
      "text/plain": [
       "   math score  reading score  writing score\n",
       "0          59             70             78\n",
       "1          96             93             87\n",
       "2          57             76             77\n",
       "3          70             70             63\n",
       "4          83             85             86"
      ]
     },
     "execution_count": 50,
     "metadata": {},
     "output_type": "execute_result"
    }
   ],
   "source": [
    "# Create new feature matrix columns based on the numerical values.\n",
    "X = data.drop(['race/ethnicity','parental level of education','lunch','test preparation course','gender'], axis = 'columns')\n",
    "X.head()"
   ]
  },
  {
   "cell_type": "code",
   "execution_count": 51,
   "id": "e16b757b",
   "metadata": {},
   "outputs": [
    {
     "data": {
      "text/plain": [
       "0    female\n",
       "1      male\n",
       "2    female\n",
       "3      male\n",
       "4    female\n",
       "Name: gender, dtype: object"
      ]
     },
     "execution_count": 51,
     "metadata": {},
     "output_type": "execute_result"
    }
   ],
   "source": [
    "# Create target array column\n",
    "y = data.gender\n",
    "y.head()"
   ]
  },
  {
   "cell_type": "code",
   "execution_count": 52,
   "id": "1d40c0a7",
   "metadata": {},
   "outputs": [],
   "source": [
    "# If a fixed value is assigned like random_state = 0 or 1 or 42 or any other integer \n",
    "# then no matter how many times you execute your code the result would be the same \n",
    "# .i.e, same values in train and test datasets.\n",
    "X_train, X_test, y_train, y_test = train_test_split(X, y, test_size=0.2, random_state=42)"
   ]
  },
  {
   "cell_type": "code",
   "execution_count": 53,
   "id": "affa6821",
   "metadata": {},
   "outputs": [
    {
     "data": {
      "text/plain": [
       "800"
      ]
     },
     "execution_count": 53,
     "metadata": {},
     "output_type": "execute_result"
    }
   ],
   "source": [
    "# Ascertain if the training data is 80% of the dataset.\n",
    "len(X_train)"
   ]
  },
  {
   "cell_type": "code",
   "execution_count": 54,
   "id": "87171847",
   "metadata": {},
   "outputs": [
    {
     "data": {
      "text/plain": [
       "200"
      ]
     },
     "execution_count": 54,
     "metadata": {},
     "output_type": "execute_result"
    }
   ],
   "source": [
    "# Ascertain if the test data is 20% of the dataset.\n",
    "len(X_test)"
   ]
  },
  {
   "cell_type": "markdown",
   "id": "021ae206",
   "metadata": {},
   "source": [
    "<p>Sklearn's support vector machines classifier class, <strong>SVC</strong>, can be used to handle classifications. There are several parameters associated with this class, but let's focus on three key ones: <br>\n",
    "<ul>\n",
    " <li><strong>kernel:</strong> determines the type of function used to transform the dataset</li>\n",
    " <li><strong>C:</strong>  specifies the regularization of the error</li>\n",
    " <li><strong> gamma:</strong>  sets the looseness of the model fit to the training data, enabling you to avoid overfitting.</li>\n",
    "</ul>\n",
    "</p>\n",
    "<p>Next, let's build our SVM model with a RBF kernel and the default parameters, except for the random state. We can do this by creating an instance of the SVC class and then calling the .fit() method on the training data (X_train and y_train):</p>"
   ]
  },
  {
   "cell_type": "code",
   "execution_count": 55,
   "id": "472a50a6",
   "metadata": {},
   "outputs": [],
   "source": [
    "# Import the SVC class\n",
    "from sklearn.svm import SVC\n",
    "# Create SVM classifier\n",
    "model = SVC(kernel = 'rbf')"
   ]
  },
  {
   "cell_type": "markdown",
   "id": "ca13b9a7",
   "metadata": {},
   "source": [
    "<p>The SVC model's parameters can be adjusted by the reader, but a comprehensive understanding of these parameters is necessary.</p>"
   ]
  },
  {
   "cell_type": "code",
   "execution_count": 56,
   "id": "1d352447",
   "metadata": {},
   "outputs": [
    {
     "data": {
      "text/plain": [
       "SVC()"
      ]
     },
     "execution_count": 56,
     "metadata": {},
     "output_type": "execute_result"
    }
   ],
   "source": [
    "# Train the SVM classifier using the fit method to train the model\n",
    "model.fit(X_train, y_train)"
   ]
  },
  {
   "cell_type": "markdown",
   "id": "95bd1bfb",
   "metadata": {},
   "source": [
    "<p>We can now make predictions using our trained model. This can be done by using the <strong>.predict() method</strong> and passing in our testing features.<br>\n",
    "\n",
    "Here is an example:\n",
    "</p>"
   ]
  },
  {
   "cell_type": "code",
   "execution_count": 57,
   "id": "114442b3",
   "metadata": {},
   "outputs": [
    {
     "name": "stdout",
     "output_type": "stream",
     "text": [
      "['female' 'female' 'female' 'male' 'male' 'male' 'male' 'male' 'male'\n",
      " 'female']\n"
     ]
    }
   ],
   "source": [
    "# Make predictions with the data\n",
    "y_pred = model.predict(X_test)\n",
    "print(y_pred[:10])"
   ]
  },
  {
   "cell_type": "markdown",
   "id": "e4df3f4b",
   "metadata": {},
   "source": [
    "<p>Finally, to calculate the accuracy of the SVM model that we just built, we can use the <strong>accuracy_score function</strong>  provided by the sklearn.metrics library.</p>"
   ]
  },
  {
   "cell_type": "code",
   "execution_count": 58,
   "id": "7fa9dca1",
   "metadata": {},
   "outputs": [],
   "source": [
    "# import the accuracy_score function\n",
    "from sklearn.metrics import accuracy_score"
   ]
  },
  {
   "cell_type": "code",
   "execution_count": 59,
   "id": "7e9496cd",
   "metadata": {},
   "outputs": [
    {
     "name": "stdout",
     "output_type": "stream",
     "text": [
      "Accuracy: 0.905\n"
     ]
    }
   ],
   "source": [
    "# Evaluate the accuracy of the model\n",
    "accuracy = accuracy_score(y_test, y_pred)\n",
    "print(\"Accuracy:\", accuracy)"
   ]
  },
  {
   "cell_type": "markdown",
   "id": "6e837fa8",
   "metadata": {},
   "source": [
    "<p><strong>In summary</strong>, we have successfully completed the task of creating an SVM classifier and making predictions based on the data. To evaluate the performance of the machine learning model on a test set, it is crucial to calculate the accuracy score. This score measures the proportion of correct predictions made by the model and helps in determining whether the model is overfitting or underfitting the data. A high accuracy score indicates that the model is performing well, while a low score suggests the need for model improvement.<br>\n",
    "\n",
    "The accuracy score is important in assessing the reliability and usefulness of the model in real-world scenarios. Although acceptable accuracy score can vary depending on the specific problem and industry, an accuracy score of at least 70-80% is considered acceptable for many applications.\n",
    "</p>"
   ]
  },
  {
   "cell_type": "markdown",
   "id": "88c4c8ec",
   "metadata": {},
   "source": [
    "### Further Study:"
   ]
  },
  {
   "cell_type": "markdown",
   "id": "4da32c1d",
   "metadata": {},
   "source": [
    "<ul>\n",
    " <li>Support Vector Machine(SVM): A Complete guide for beginners <a href=https://www.analyticsvidhya.com/blog/2021/10/support-vector-machinessvm-a-complete-guide-for-beginners/>click me </a></li>\n",
    " <li>Support Vector Machine (SVM) Tutorial <a href=https://codebasics.io/courses/machine-learning-for-beginners/lecture/24>click me </a></li>\n",
    "</ul>\n",
    "\n"
   ]
  },
  {
   "cell_type": "markdown",
   "id": "98ef1850",
   "metadata": {},
   "source": [
    "### Exercises:"
   ]
  },
  {
   "cell_type": "markdown",
   "id": "4a7d65e7",
   "metadata": {},
   "source": [
    "<p>Utilizing the identical dataset employed in our SVM implementation:<br>\n",
    "<ol>\n",
    " <li>Predict the writing score of a student based on their gender, parental level of education, lunch type, test preparation course, math score, and reading score. This can be done using a regression model such as Linear Regression or Random Forest Regression.</li>\n",
    " <li>Classify students into different categories based on their race/ethnicity, parental level of education, lunch type, test preparation course, math score, reading score, and writing score. This can be done using a classification model such as Support Vector Machines or Random Forest Classification.</li>\n",
    "<li>How does One-Hot Encoding work to transform categorical features into binary columns that machine learning algorithms can work with?</li>\n",
    "</ol>  \n",
    "</p>"
   ]
  },
  {
   "cell_type": "markdown",
   "id": "e369bdab",
   "metadata": {},
   "source": [
    "### References:\n",
    "<p>\n",
    "[1]: https://yourfreetemplates.com/free-machine-learning-diagram/ <br>\n",
    "[2]: https://towardsdatascience.com/support-vector-machine-introduction-to-machine-learning-algorithms-934a444fca47 <br>\n",
    "[3]: https://vitalflux.com/classification-model-svm-classifier-python-example/<br>\n",
    "[4]: https://www.jeremyjordan.me/support-vector-machines/ <br>\n",
    "[5]: http://roycekimmons.com/tools/generated_data/exams <br>\n",
    "</p>\n"
   ]
  },
  {
   "cell_type": "code",
   "execution_count": null,
   "id": "3fa39397",
   "metadata": {},
   "outputs": [],
   "source": []
  }
 ],
 "metadata": {
  "kernelspec": {
   "display_name": "Python 3 (ipykernel)",
   "language": "python",
   "name": "python3"
  },
  "language_info": {
   "codemirror_mode": {
    "name": "ipython",
    "version": 3
   },
   "file_extension": ".py",
   "mimetype": "text/x-python",
   "name": "python",
   "nbconvert_exporter": "python",
   "pygments_lexer": "ipython3",
   "version": "3.9.7"
  }
 },
 "nbformat": 4,
 "nbformat_minor": 5
}
